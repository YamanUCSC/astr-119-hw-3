{
 "cells": [
  {
   "cell_type": "code",
   "execution_count": null,
   "metadata": {},
   "outputs": [],
   "source": [
    "import matplotlib.pyplot as plt \n",
    "%matplotlib inline \n",
    "import numpy as np "
   ]
  },
  {
   "cell_type": "code",
   "execution_count": null,
   "metadata": {},
   "outputs": [],
   "source": [
    "def function_for_roots(x):\n",
    "    return 1.01*x**2 - 3.04 * x + 2.07\n"
   ]
  },
  {
   "cell_type": "code",
   "execution_count": null,
   "metadata": {},
   "outputs": [],
   "source": [
    "x = np.linspace(0, 3, 1000)"
   ]
  },
  {
   "cell_type": "code",
   "execution_count": null,
   "metadata": {},
   "outputs": [],
   "source": [
    "plt.plot(x, function(x))\n",
    "f_min = function_for_roots(x[0])\n",
    "f_max = function_for_roots(1.5)\n",
    "plt.axhline(0.0, linestyle=':', color='k', alpha=.5)\n",
    "plt.plot(x[0], f_min, marker='o', color='orange')\n",
    "plt.plot(1.5, f_max, marker='o', color='orange')\n",
    "plt.ylabel('y')\n",
    "plt.xlabel('x')\n",
    "plt.xlim(0,3)\n",
    "plt.ylim(-.5, 2.1)"
   ]
  },
  {
   "cell_type": "code",
   "execution_count": null,
   "metadata": {},
   "outputs": [],
   "source": []
  },
  {
   "cell_type": "code",
   "execution_count": null,
   "metadata": {},
   "outputs": [],
   "source": [
    "def check_initial_values(f, x_min, x_max, tol):\n",
    "    \n",
    "    y_min = f(x_min)\n",
    "    y_max = f(x_max)\n",
    "    \n",
    "    if(y_min*y_max>=0.0):\n",
    "        print(\"No zero crossing found in the range = \",x_min,x_max)\n",
    "        s = \"f(%f) = %f\" % (x_min,y_min,x_max,y_max)\n",
    "        print(s)\n",
    "        return 0 \n",
    "    \n",
    "    if np.fabs(y_min)<tol:\n",
    "        return 1 \n",
    "    \n",
    "    if np.fabs(y_max)<tol:\n",
    "        return 2 \n",
    "    \n",
    "    return 3 "
   ]
  },
  {
   "cell_type": "code",
   "execution_count": null,
   "metadata": {},
   "outputs": [],
   "source": [
    "def bisection_root_finding(f, x_min_start, x_max_start, tol):\n",
    "    x_min = x_min_start\n",
    "    x_max = x_max_start\n",
    "    x_mid = 0.0 \n",
    "    \n",
    "    y_min = f(x_min)\n",
    "    y_max = f(x_max)\n",
    "    y_mid = 0.0 \n",
    "    \n",
    "    imax = 10000\n",
    "    i = 0 \n",
    "    \n",
    "    flag = check_initial_values(f, x_min, x_max, tol)\n",
    "    \n",
    "    if flag == 0:\n",
    "        raise ValueError('inital values are invalid')\n",
    "    if flag == 1:\n",
    "        return x_min\n",
    "    if flag == 2:\n",
    "        return x_max\n",
    "    \n",
    "    flag = 1 \n",
    "    \n",
    "    while flag:\n",
    "        x_mid = 0.5 * (x_min + x_max)\n",
    "        y_mid = f(x_mid)\n",
    "        \n",
    "        if np.fabs(y_mid)<tol:\n",
    "            flag = 0 \n",
    "        else:\n",
    "            if f(x_min)*f(x_mid) > 0:\n",
    "                x_min = x_mid\n",
    "            else:\n",
    "                x_max = x_mid \n",
    "                    \n",
    "        print(x_min, f(x_min), x_max, f(x_max))\n",
    "    \n",
    "        i += 1\n",
    "        if i >=imax:\n",
    "            raise StopIteration('stopped iterating')\n",
    "    \n",
    "    return x_mid, i \n",
    "\n",
    "        \n",
    "\n",
    "            "
   ]
  },
  {
   "cell_type": "code",
   "execution_count": null,
   "metadata": {},
   "outputs": [],
   "source": [
    "x_min = 0.0\n",
    "x_max = 1.5\n",
    "tolerence = 1.0e-10\n",
    "\n",
    "print(x_min, function_for_roots(x_min))\n",
    "print(x_max, function_for_roots(x_max))\n",
    "\n",
    "x_root, i_root = bisection_root_finding(function_for_roots, x_min, x_max, tolerence)\n",
    "y_root = function_for_roots(x_root)\n",
    "\n",
    "x = \"Root found with y(%f) = %f\" % (x_root, y_root)\n",
    "print(x)\n",
    "\n",
    "print(\"I have run for %d number iterations\"%i_root)"
   ]
  },
  {
   "cell_type": "code",
   "execution_count": null,
   "metadata": {},
   "outputs": [],
   "source": []
  },
  {
   "cell_type": "code",
   "execution_count": null,
   "metadata": {},
   "outputs": [],
   "source": []
  },
  {
   "cell_type": "code",
   "execution_count": null,
   "metadata": {},
   "outputs": [],
   "source": []
  },
  {
   "cell_type": "code",
   "execution_count": null,
   "metadata": {},
   "outputs": [],
   "source": []
  },
  {
   "cell_type": "code",
   "execution_count": null,
   "metadata": {},
   "outputs": [],
   "source": []
  },
  {
   "cell_type": "code",
   "execution_count": null,
   "metadata": {},
   "outputs": [],
   "source": []
  }
 ],
 "metadata": {
  "kernelspec": {
   "display_name": "Python 3",
   "language": "python",
   "name": "python3"
  },
  "language_info": {
   "codemirror_mode": {
    "name": "ipython",
    "version": 3
   },
   "file_extension": ".py",
   "mimetype": "text/x-python",
   "name": "python",
   "nbconvert_exporter": "python",
   "pygments_lexer": "ipython3",
   "version": "3.6.5"
  }
 },
 "nbformat": 4,
 "nbformat_minor": 2
}
